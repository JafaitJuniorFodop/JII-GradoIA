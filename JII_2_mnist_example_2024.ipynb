{
  "cells": [
    {
      "cell_type": "markdown",
      "source": [
        "### **Example 2:**\n",
        "We will use a small Neural Network (NN) to predict the digit, from 0 to 9, writen on an image."
      ],
      "metadata": {
        "id": "AaB768PbzrB-"
      }
    },
    {
      "cell_type": "markdown",
      "source": [
        "## Common imports and loading data"
      ],
      "metadata": {
        "id": "bLImzLxm2QpF"
      }
    },
    {
      "cell_type": "code",
      "execution_count": 2,
      "metadata": {
        "colab": {
          "base_uri": "https://localhost:8080/",
          "height": 35
        },
        "id": "CID67yXie4zR",
        "outputId": "df0bdb0e-5d85-4fa3-f971-108a2244b9fb"
      },
      "outputs": [
        {
          "output_type": "execute_result",
          "data": {
            "text/plain": [
              "'2.15.0'"
            ],
            "application/vnd.google.colaboratory.intrinsic+json": {
              "type": "string"
            }
          },
          "metadata": {},
          "execution_count": 2
        }
      ],
      "source": [
        "import keras\n",
        "keras.__version__\n"
      ]
    },
    {
      "cell_type": "markdown",
      "source": [
        "We will now load the dataset, denoted as MNIST, composed of images representing hand-writen digits. We also have access to the labels, i.e., the digit (number) writen in each image.\n",
        "\n",
        "When downloading the dataset, we will already split the data into training and testing sets. The idea is to train the NN on the training data, and then analyze its performance on the test data."
      ],
      "metadata": {
        "id": "Gg3HtjBL28-P"
      }
    },
    {
      "cell_type": "code",
      "execution_count": 3,
      "metadata": {
        "id": "n3h5bDqoe4zU",
        "colab": {
          "base_uri": "https://localhost:8080/"
        },
        "outputId": "db74ec90-7cda-4db5-d6d7-6cb82d220697"
      },
      "outputs": [
        {
          "output_type": "stream",
          "name": "stdout",
          "text": [
            "Downloading data from https://storage.googleapis.com/tensorflow/tf-keras-datasets/mnist.npz\n",
            "11490434/11490434 [==============================] - 1s 0us/step\n"
          ]
        }
      ],
      "source": [
        "from keras.datasets import mnist\n",
        "\n",
        "(train_images, train_labels), (test_images, test_labels) = mnist.load_data()"
      ]
    },
    {
      "cell_type": "markdown",
      "source": [
        "Let's check the number of images in the train and test sets, as well as their size."
      ],
      "metadata": {
        "id": "Enb5kboe3TQ5"
      }
    },
    {
      "cell_type": "code",
      "execution_count": 4,
      "metadata": {
        "colab": {
          "base_uri": "https://localhost:8080/"
        },
        "id": "fxnFfkyae4zV",
        "outputId": "6aef5cce-b2e1-4394-9b9c-70bbc70751a7"
      },
      "outputs": [
        {
          "output_type": "stream",
          "name": "stdout",
          "text": [
            "Number of images in the training set is:  60000\n",
            "Number of images in the test set is:  10000\n",
            "Width is:  28\n",
            "Height is:  28\n"
          ]
        }
      ],
      "source": [
        "num_train_images = train_images.shape[0]\n",
        "num_test_images = test_images.shape[0]\n",
        "\n",
        "width = train_images.shape[1]\n",
        "height = train_images.shape[2]\n",
        "\n",
        "print('Number of images in the training set is: ', num_train_images)\n",
        "print('Number of images in the test set is: ', num_test_images)\n",
        "print('Width is: ', width)\n",
        "print('Height is: ', height)\n"
      ]
    },
    {
      "cell_type": "markdown",
      "source": [
        "Let's visualize some of the images and the corresponding labels"
      ],
      "metadata": {
        "id": "e1GoN66c_da4"
      }
    },
    {
      "cell_type": "code",
      "execution_count": 7,
      "metadata": {
        "colab": {
          "base_uri": "https://localhost:8080/",
          "height": 447
        },
        "id": "wCAxuyo4e4zV",
        "outputId": "26f6ddb1-1b27-4df8-bdc7-5350141e1ce1"
      },
      "outputs": [
        {
          "output_type": "stream",
          "name": "stdout",
          "text": [
            "Label is:  0\n"
          ]
        },
        {
          "output_type": "display_data",
          "data": {
            "text/plain": [
              "<Figure size 640x480 with 1 Axes>"
            ],
            "image/png": "[encoded data removed]"
          },
          "metadata": {}
        }
      ],
      "source": [
        "# Select the image and print its label\n",
        "idx = 1 # You can modify the index to print other images\n",
        "digit = train_images[idx]\n",
        "print('Label is: ', train_labels[idx])\n",
        "\n",
        "# Plot the image\n",
        "import matplotlib.pyplot as plt\n",
        "plt.imshow(digit, cmap=plt.cm.binary)\n",
        "plt.show()"
      ]
    },
    {
      "cell_type": "markdown",
      "source": [
        "## Design and train a simple NN model to predict the digit in an image"
      ],
      "metadata": {
        "id": "Q74NkSl3AERJ"
      }
    },
    {
      "cell_type": "markdown",
      "source": [
        "Model architecture"
      ],
      "metadata": {
        "id": "IqbYdL62B0kz"
      }
    },
    {
      "cell_type": "code",
      "execution_count": 8,
      "metadata": {
        "id": "Hw8XAEeIe4zY"
      },
      "outputs": [],
      "source": [
        "# Define architecture\n",
        "from keras import models\n",
        "from keras import layers\n",
        "\n",
        "network = models.Sequential()\n",
        "network.add(layers.Dense(512, activation='relu', input_shape=(28 * 28,)))\n",
        "network.add(layers.Dense(200, activation='relu'))\n",
        "network.add(layers.Dense(10, activation='softmax'))"
      ]
    },
    {
      "cell_type": "markdown",
      "source": [
        "Summary of the network"
      ],
      "metadata": {
        "id": "DqN7scRHB4eh"
      }
    },
    {
      "cell_type": "code",
      "source": [
        "network.summary()"
      ],
      "metadata": {
        "colab": {
          "base_uri": "https://localhost:8080/"
        },
        "id": "uyvj-o2bfh-q",
        "outputId": "54c3b497-fc73-4dd0-87eb-0c60282d053d"
      },
      "execution_count": 10,
      "outputs": [
        {
          "output_type": "stream",
          "name": "stdout",
          "text": [
            "Model: \"sequential\"\n",
            "_________________________________________________________________\n",
            " Layer (type)                Output Shape              Param #   \n",
            "=================================================================\n",
            " dense (Dense)               (None, 512)               401920    \n",
            "                                                                 \n",
            " dense_1 (Dense)             (None, 200)               102600    \n",
            "                                                                 \n",
            " dense_2 (Dense)             (None, 10)                2010      \n",
            "                                                                 \n",
            "=================================================================\n",
            "Total params: 506530 (1.93 MB)\n",
            "Trainable params: 506530 (1.93 MB)\n",
            "Non-trainable params: 0 (0.00 Byte)\n",
            "_________________________________________________________________\n"
          ]
        }
      ]
    },
    {
      "cell_type": "markdown",
      "source": [
        "Set the parameters for training the network"
      ],
      "metadata": {
        "id": "aGQQtzGhB8Kj"
      }
    },
    {
      "cell_type": "code",
      "execution_count": 11,
      "metadata": {
        "id": "53Xw342Qe4zZ"
      },
      "outputs": [],
      "source": [
        "network.compile(optimizer='rmsprop',\n",
        "                loss='categorical_crossentropy',\n",
        "                metrics=['accuracy'])"
      ]
    },
    {
      "cell_type": "markdown",
      "source": [
        "Prepare the data for being input to the NN"
      ],
      "metadata": {
        "id": "CDrxGQbhCBA0"
      }
    },
    {
      "cell_type": "code",
      "execution_count": 12,
      "metadata": {
        "id": "esVCcTW4e4zZ"
      },
      "outputs": [],
      "source": [
        "train_images = train_images.reshape((60000, 28 * 28))\n",
        "train_images = train_images.astype('float32') / 255\n",
        "\n",
        "test_images = test_images.reshape((10000, 28 * 28))\n",
        "test_images = test_images.astype('float32') / 255"
      ]
    },
    {
      "cell_type": "markdown",
      "source": [
        "Prepare the labels for the NN"
      ],
      "metadata": {
        "id": "ZB9zVlhBCFAn"
      }
    },
    {
      "cell_type": "code",
      "execution_count": 13,
      "metadata": {
        "id": "JXVTh5ave4za"
      },
      "outputs": [],
      "source": [
        "from keras.utils import to_categorical\n",
        "\n",
        "train_labels_cat = to_categorical(train_labels)\n",
        "test_labels_cat = to_categorical(test_labels)"
      ]
    },
    {
      "cell_type": "code",
      "source": [
        "print(train_labels_cat)"
      ],
      "metadata": {
        "colab": {
          "base_uri": "https://localhost:8080/"
        },
        "id": "nMjvuhxXfYks",
        "outputId": "2f1f6cdb-2bad-4e39-bc03-357b92c99538"
      },
      "execution_count": 14,
      "outputs": [
        {
          "output_type": "stream",
          "name": "stdout",
          "text": [
            "[[0. 0. 0. ... 0. 0. 0.]\n",
            " [1. 0. 0. ... 0. 0. 0.]\n",
            " [0. 0. 0. ... 0. 0. 0.]\n",
            " ...\n",
            " [0. 0. 0. ... 0. 0. 0.]\n",
            " [0. 0. 0. ... 0. 0. 0.]\n",
            " [0. 0. 0. ... 0. 1. 0.]]\n"
          ]
        }
      ]
    },
    {
      "cell_type": "markdown",
      "source": [
        "Train the NN to find the \"optimal\" parameters using ONLY the training dataa"
      ],
      "metadata": {
        "id": "LmgmFWfkCI21"
      }
    },
    {
      "cell_type": "code",
      "execution_count": 15,
      "metadata": {
        "colab": {
          "base_uri": "https://localhost:8080/"
        },
        "id": "aYmMmBefe4za",
        "outputId": "53d34335-e209-432c-8ea9-4a168a64d0f6"
      },
      "outputs": [
        {
          "output_type": "stream",
          "name": "stdout",
          "text": [
            "Epoch 1/5\n",
            "469/469 [==============================] - 8s 14ms/step - loss: 0.2362 - accuracy: 0.9270\n",
            "Epoch 2/5\n",
            "469/469 [==============================] - 10s 22ms/step - loss: 0.0864 - accuracy: 0.9738\n",
            "Epoch 3/5\n",
            "469/469 [==============================] - 11s 24ms/step - loss: 0.0560 - accuracy: 0.9825\n",
            "Epoch 4/5\n",
            "469/469 [==============================] - 7s 15ms/step - loss: 0.0394 - accuracy: 0.9878\n",
            "Epoch 5/5\n",
            "469/469 [==============================] - 7s 15ms/step - loss: 0.0283 - accuracy: 0.9907\n"
          ]
        },
        {
          "output_type": "execute_result",
          "data": {
            "text/plain": [
              "<keras.src.callbacks.History at 0x7e7d6bf18d00>"
            ]
          },
          "metadata": {},
          "execution_count": 15
        }
      ],
      "source": [
        "network.fit(train_images, train_labels_cat, epochs=5, batch_size=128)"
      ]
    },
    {
      "cell_type": "markdown",
      "source": [
        "## Analyze the performance of the network on the TEST data"
      ],
      "metadata": {
        "id": "cs_En3VhCRAc"
      }
    },
    {
      "cell_type": "markdown",
      "source": [
        "Let's first check the accuracy (% of correctly predicted digits) on the test data"
      ],
      "metadata": {
        "id": "93sd0NCRCYrF"
      }
    },
    {
      "cell_type": "code",
      "execution_count": 16,
      "metadata": {
        "colab": {
          "base_uri": "https://localhost:8080/"
        },
        "id": "WpcsemdPe4zb",
        "outputId": "2bbecb22-2801-4204-f624-704cf85487f8"
      },
      "outputs": [
        {
          "output_type": "stream",
          "name": "stdout",
          "text": [
            "313/313 [==============================] - 1s 4ms/step - loss: 0.0709 - accuracy: 0.9801\n"
          ]
        }
      ],
      "source": [
        "test_loss, test_acc = network.evaluate(test_images, test_labels_cat)"
      ]
    },
    {
      "cell_type": "code",
      "execution_count": 18,
      "metadata": {
        "colab": {
          "base_uri": "https://localhost:8080/"
        },
        "id": "Exv09ilue4zb",
        "outputId": "c1dfbe08-a8e4-4e8b-f7d5-6f65ff754d39"
      },
      "outputs": [
        {
          "output_type": "stream",
          "name": "stdout",
          "text": [
            "The percentage of correctly predicted digits on the test data is:  98.00999760627747\n"
          ]
        }
      ],
      "source": [
        "print('The percentage of correctly predicted digits on the test data is: ', test_acc*100)"
      ]
    },
    {
      "cell_type": "markdown",
      "source": [
        "Let's plot a confusion matrix to check which digits are incorrectly predicted"
      ],
      "metadata": {
        "id": "rTLP9TnJCu1C"
      }
    },
    {
      "cell_type": "code",
      "source": [
        "y_pred = network.predict(test_images)\n",
        "import numpy as np\n",
        "y_pred = np.argmax(y_pred, axis=1)"
      ],
      "metadata": {
        "colab": {
          "base_uri": "https://localhost:8080/"
        },
        "id": "My2D8MC6yVve",
        "outputId": "99b56fda-d18f-4458-a949-38e1d2c656b7"
      },
      "execution_count": 19,
      "outputs": [
        {
          "output_type": "stream",
          "name": "stdout",
          "text": [
            "313/313 [==============================] - 1s 3ms/step\n"
          ]
        }
      ]
    },
    {
      "cell_type": "code",
      "source": [
        "# Let's plot a confusion matrix\n",
        "import sklearn.metrics as sklm\n",
        "import seaborn as sns\n",
        "import matplotlib.pyplot as plt\n",
        "\n",
        "cm = sklm.confusion_matrix(test_labels, y_pred)\n",
        "\n",
        "ax = plt.subplot()\n",
        "sns.heatmap(cm, annot=True, fmt='g', ax=ax);\n",
        "ax.set_xlabel('Predicted labels');ax.set_ylabel('True labels');\n",
        "ax.set_title('Confusion Matrix');"
      ],
      "metadata": {
        "colab": {
          "base_uri": "https://localhost:8080/",
          "height": 472
        },
        "id": "986hTYu8ybCu",
        "outputId": "7a4ab48d-dd46-461a-aa67-7218e0d6c183"
      },
      "execution_count": 20,
      "outputs": [
        {
          "output_type": "display_data",
          "data": {
            "text/plain": [
              "<Figure size 640x480 with 2 Axes>"
            ],
            "image/png": "[encoded data removed]"
          },
          "metadata": {}
        }
      ]
    }
  ],
  "metadata": {
    "kernelspec": {
      "display_name": "Python 3",
      "language": "python",
      "name": "python3"
    },
    "language_info": {
      "codemirror_mode": {
        "name": "ipython",
        "version": 3
      },
      "file_extension": ".py",
      "mimetype": "text/x-python",
      "name": "python",
      "nbconvert_exporter": "python",
      "pygments_lexer": "ipython3",
      "version": "3.6.10"
    },
    "colab": {
      "provenance": []
    }
  },
  "nbformat": 4,
  "nbformat_minor": 0
}